{
 "cells": [
  {
   "cell_type": "code",
   "execution_count": 2,
   "id": "2d27462d",
   "metadata": {},
   "outputs": [
    {
     "name": "stdout",
     "output_type": "stream",
     "text": [
      "2022-11-30 17:44:38,698 INFO sqlalchemy.engine.base.Engine SELECT CAST('test plain returns' AS VARCHAR(60)) AS anon_1\n",
      "2022-11-30 17:44:38,700 INFO sqlalchemy.engine.base.Engine ()\n",
      "2022-11-30 17:44:38,701 INFO sqlalchemy.engine.base.Engine SELECT CAST('test unicode returns' AS VARCHAR(60)) AS anon_1\n",
      "2022-11-30 17:44:38,702 INFO sqlalchemy.engine.base.Engine ()\n",
      "2022-11-30 17:44:38,704 INFO sqlalchemy.engine.base.Engine PRAGMA main.table_info(\"students\")\n",
      "2022-11-30 17:44:38,705 INFO sqlalchemy.engine.base.Engine ()\n",
      "2022-11-30 17:44:38,707 INFO sqlalchemy.engine.base.Engine SELECT name FROM sqlite_master WHERE type='table' ORDER BY name\n",
      "2022-11-30 17:44:38,707 INFO sqlalchemy.engine.base.Engine ()\n",
      "['projects', 'students', 'tasks']\n"
     ]
    }
   ],
   "source": [
    "from sqlalchemy_ex_02 import students"
   ]
  },
  {
   "cell_type": "code",
   "execution_count": 3,
   "id": "bc176bc1",
   "metadata": {},
   "outputs": [],
   "source": [
    "ins = students.insert()"
   ]
  },
  {
   "cell_type": "code",
   "execution_count": 4,
   "id": "6d64d9c5",
   "metadata": {},
   "outputs": [
    {
     "data": {
      "text/plain": [
       "<sqlalchemy.sql.dml.Insert object at 0x000002AA98D04DC0>"
      ]
     },
     "execution_count": 4,
     "metadata": {},
     "output_type": "execute_result"
    }
   ],
   "source": [
    "ins"
   ]
  },
  {
   "cell_type": "code",
   "execution_count": 5,
   "id": "493ee780",
   "metadata": {},
   "outputs": [
    {
     "data": {
      "text/plain": [
       "'INSERT INTO students (id, name, lastname) VALUES (:id, :name, :lastname)'"
      ]
     },
     "execution_count": 5,
     "metadata": {},
     "output_type": "execute_result"
    }
   ],
   "source": [
    "str(ins)"
   ]
  },
  {
   "cell_type": "code",
   "execution_count": 6,
   "id": "96a0a52d",
   "metadata": {},
   "outputs": [
    {
     "data": {
      "text/plain": [
       "{'id': None, 'name': None, 'lastname': None}"
      ]
     },
     "execution_count": 6,
     "metadata": {},
     "output_type": "execute_result"
    }
   ],
   "source": [
    "ins.compile().params"
   ]
  },
  {
   "cell_type": "code",
   "execution_count": 7,
   "id": "33f757a2",
   "metadata": {},
   "outputs": [],
   "source": [
    "ins = students.insert().values(name='Eric', lastname='Idle')"
   ]
  },
  {
   "cell_type": "code",
   "execution_count": 8,
   "id": "cce29d5a",
   "metadata": {},
   "outputs": [
    {
     "data": {
      "text/plain": [
       "{'name': 'Eric', 'lastname': 'Idle'}"
      ]
     },
     "execution_count": 8,
     "metadata": {},
     "output_type": "execute_result"
    }
   ],
   "source": [
    "ins.compile().params"
   ]
  },
  {
   "cell_type": "code",
   "execution_count": null,
   "id": "241a92ba",
   "metadata": {},
   "outputs": [],
   "source": []
  }
 ],
 "metadata": {
  "kernelspec": {
   "display_name": "Python 3 (ipykernel)",
   "language": "python",
   "name": "python3"
  },
  "language_info": {
   "codemirror_mode": {
    "name": "ipython",
    "version": 3
   },
   "file_extension": ".py",
   "mimetype": "text/x-python",
   "name": "python",
   "nbconvert_exporter": "python",
   "pygments_lexer": "ipython3",
   "version": "3.9.5"
  }
 },
 "nbformat": 4,
 "nbformat_minor": 5
}
